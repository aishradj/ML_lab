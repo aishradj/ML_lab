{
 "cells": [
  {
   "cell_type": "code",
   "execution_count": 134,
   "metadata": {},
   "outputs": [
    {
     "data": {
      "text/plain": [
       "'1.5.0'"
      ]
     },
     "execution_count": 134,
     "metadata": {},
     "output_type": "execute_result"
    }
   ],
   "source": [
    "import tensorflow as tf\n",
    "\n",
    "# Importing matplotlib to plot images.\n",
    "import matplotlib.pyplot as plt\n",
    "import numpy as np\n",
    "%matplotlib inline\n",
    "import pandas as pd\n",
    "# Importing SK-learn to calculate precision and recall\n",
    "import sklearn\n",
    "import sklearn.metrics\n",
    "\n",
    "# Used for graph export\n",
    "from tensorflow.python.framework import graph_util\n",
    "from tensorflow.python.framework import graph_io\n",
    "from keras.models import load_model\n",
    "from keras import backend as K\n",
    "\n",
    "tf.__version__"
   ]
  },
  {
   "cell_type": "code",
   "execution_count": 135,
   "metadata": {},
   "outputs": [
    {
     "name": "stdout",
     "output_type": "stream",
     "text": [
      "(60000, 28, 28)\n"
     ]
    }
   ],
   "source": [
    "# the data, split between train and test sets\n",
    "(x_train, y_train), (x_test, y_test) = tf.keras.datasets.mnist.load_data()\n",
    "print(np.shape(x_train))"
   ]
  },
  {
   "cell_type": "code",
   "execution_count": 136,
   "metadata": {},
   "outputs": [
    {
     "name": "stderr",
     "output_type": "stream",
     "text": [
      "/usr/local/lib/python3.6/dist-packages/numpy/core/fromnumeric.py:52: FutureWarning: reshape is deprecated and will raise in a subsequent release. Please use .values.reshape(...) instead\n",
      "  return getattr(obj, method)(*args, **kwds)\n"
     ]
    },
    {
     "name": "stdout",
     "output_type": "stream",
     "text": [
      "0    306.0\n",
      "0    327.0\n",
      "Name: x_actual, dtype: float64\n",
      "0     518.0\n",
      "0    1688.0\n",
      "Name: y_actual, dtype: float64\n",
      "(61035, 27, 15)\n"
     ]
    }
   ],
   "source": [
    "\n",
    "df1 = pd.read_pickle(\"processed_ash_pck.pkl\")\n",
    "df2 = pd.read_pickle(\"P1_pck.pkl\")\n",
    "temp = [df1,df2]\n",
    "df = pd.concat(temp)\n",
    "x_train = []\n",
    "y1_train = df.x_curr\n",
    "y2_train = df.y_curr\n",
    "y1_train = (np.reshape(y1_train,(-1,1)))\n",
    "y2_train = np.reshape(y2_train,(-1,1))\n",
    "y = np.append(y1_train,y2_train,axis = 1)\n",
    "print(df.x_actual[0])\n",
    "print(df.y_actual[0])\n",
    "[x_train.append(np.reshape(a,(27,15))) for a in df.aray2]\n",
    "#[y1_train.append(a) for a,b in df.x_actual,df.y_actual]\n",
    "#[y2_train.append(a) for a in df.y_actual]\n",
    "#y1_train = np.reshape(y1_train,(-1,len(y1_train)))\n",
    "#y2_train = np.reshape(y2_train,(-1,len(y2_train)))\n",
    "#print(np.hstack(y1_train,y2_train))\n",
    "x_train = np.asarray(x_train)\n",
    "x_train = x_train.astype(np.float32)\n",
    "x_train /= 255\n",
    "print(np.shape(x_train))\n",
    "\n",
    "\n",
    "\n",
    "\n",
    "\n",
    "df6 = pd.read_pickle(\"P3_pck.pkl\")\n",
    "x_test = []\n",
    "y1_test = df6.x_curr\n",
    "y2_test = df6.y_curr\n",
    "y1_test = (np.reshape(y1_test,(-1,1)))\n",
    "y2_test = np.reshape(y2_test,(-1,1))\n",
    "y_test = np.append(y1_test,y2_test,axis = 1)\n",
    "mobx_test = df6.x_actual\n",
    "moby_test = df6.y_actual\n",
    "mobx_test = (np.reshape(mobx_test,(-1,1)))\n",
    "moby_test = np.reshape(moby_test,(-1,1))\n",
    "mob_test = np.append(mobx_test,moby_test,axis = 1)\n",
    "[x_test.append(np.reshape(a,(27,15))) for a in df6.aray2]\n",
    "#[y1_train.append(a) for a,b in df.x_actual,df.y_actual]\n",
    "#[y2_train.append(a) for a in df.y_actual]\n",
    "#y1_train = np.reshape(y1_train,(-1,len(y1_train)))\n",
    "#y2_train = np.reshape(y2_train,(-1,len(y2_train)))\n",
    "#print(np.hstack(y1_train,y2_train))\n",
    "x_test = np.asarray(x_test)\n",
    "x_test = x_test.astype(np.float32)\n",
    "x_test /= 255"
   ]
  },
  {
   "cell_type": "code",
   "execution_count": 137,
   "metadata": {},
   "outputs": [
    {
     "name": "stdout",
     "output_type": "stream",
     "text": [
      "61035 train samples\n",
      "(61035, 27, 15, 1)\n"
     ]
    }
   ],
   "source": [
    "# flatten image data <- NOT FOR CNN\n",
    "#x_train = x_train.reshape(-1, 784)\n",
    "#x_test = x_test.reshape(-1, 784)\n",
    "\n",
    "# For CNNs  ->\n",
    "###   DIFFERENT RESHAPE  ### \n",
    "### We here need the dimensions of the image plus a channel, e.g. for RGB images one have 3 channels ###\n",
    "x_train = x_train.reshape(-1, 27, 15, 1)\n",
    "#x_test = x_test.reshape(-1, 28, 28, 1)\n",
    "\n",
    "# convert to float\n",
    "x_train = x_train.astype(np.float32)\n",
    "#x_test = x_test.astype(np.float32)\n",
    "\n",
    "# normalize to a scale between 0 and 1\n",
    "#x_train /= 255\n",
    "\n",
    "print(x_train.shape[0], 'train samples')\n",
    "#print(x_test.shape[0], 'test samples')\n",
    "\n",
    "# convert class vectors to binary class matrices (one-hot notation)\n",
    "#num_classes = 10\n",
    "#y_train_one_hot = tf.keras.utils.to_categorical(y_train, num_classes)\n",
    "#y_test_one_hot = tf.keras.utils.to_categorical(y_test, num_classes)\n",
    "print(np.shape(x_train))\n",
    "shuffle = np.arange(0,len(x_train))\n",
    "np.random.shuffle(shuffle)\n",
    "x_train = x_train[shuffle]\n",
    "y = y[shuffle]"
   ]
  },
  {
   "cell_type": "code",
   "execution_count": 138,
   "metadata": {},
   "outputs": [
    {
     "name": "stdout",
     "output_type": "stream",
     "text": [
      "[508. 617.]\n"
     ]
    }
   ],
   "source": [
    "print(y_test[0])"
   ]
  },
  {
   "cell_type": "code",
   "execution_count": 139,
   "metadata": {},
   "outputs": [
    {
     "name": "stdout",
     "output_type": "stream",
     "text": [
      "[558. 659.]\n"
     ]
    },
    {
     "data": {
      "image/png": "[encoded data removed]",
      "text/plain": [
       "<Figure size 432x288 with 1 Axes>"
      ]
     },
     "metadata": {},
     "output_type": "display_data"
    }
   ],
   "source": [
    "i = 45\n",
    "plt.imshow(x_train[i].reshape(27, 15),cmap='gray') #np.sqrt(784) = 28\n",
    "plt.title(\"Label for image %i is: %s\" % (i, np.argmax(y_train[i])))\n",
    "print(y[i])"
   ]
  },
  {
   "cell_type": "code",
   "execution_count": 140,
   "metadata": {},
   "outputs": [],
   "source": [
    "# If GPU is not available: \n",
    "# GPU_USE = '/cpu:0'\n",
    "# config = tf.ConfigProto(device_count = {\"GPU\": 0})\n",
    "\n",
    "\n",
    "# If GPU is available: \n",
    "config = tf.ConfigProto()\n",
    "config.log_device_placement = True\n",
    "config.allow_soft_placement = True\n",
    "config.gpu_options.allocator_type = 'BFC'\n",
    "\n",
    "# Limit the maximum memory used\n",
    "config.gpu_options.per_process_gpu_memory_fraction = 0.1\n",
    "\n",
    "# set session config\n",
    "tf.keras.backend.set_session(tf.Session(config=config))"
   ]
  },
  {
   "cell_type": "code",
   "execution_count": 149,
   "metadata": {},
   "outputs": [
    {
     "name": "stdout",
     "output_type": "stream",
     "text": [
      "_________________________________________________________________\n",
      "Layer (type)                 Output Shape              Param #   \n",
      "=================================================================\n",
      "conv2d_62 (Conv2D)           (None, 27, 15, 5)         250       \n",
      "_________________________________________________________________\n",
      "max_pooling2d_52 (MaxPooling (None, 27, 15, 5)         0         \n",
      "_________________________________________________________________\n",
      "conv2d_63 (Conv2D)           (None, 27, 15, 5)         630       \n",
      "_________________________________________________________________\n",
      "max_pooling2d_53 (MaxPooling (None, 27, 15, 5)         0         \n",
      "_________________________________________________________________\n",
      "conv2d_64 (Conv2D)           (None, 27, 15, 5)         230       \n",
      "_________________________________________________________________\n",
      "max_pooling2d_54 (MaxPooling (None, 27, 15, 5)         0         \n",
      "_________________________________________________________________\n",
      "flatten_30 (Flatten)         (None, 2025)              0         \n",
      "_________________________________________________________________\n",
      "dense_59 (Dense)             (None, 128)               259328    \n",
      "_________________________________________________________________\n",
      "dense_60 (Dense)             (None, 64)                8256      \n",
      "_________________________________________________________________\n",
      "dropout_1 (Dropout)          (None, 64)                0         \n",
      "_________________________________________________________________\n",
      "dense_61 (Dense)             (None, 2)                 130       \n",
      "=================================================================\n",
      "Total params: 268,824\n",
      "Trainable params: 268,824\n",
      "Non-trainable params: 0\n",
      "_________________________________________________________________\n",
      "Epoch 1/20\n",
      "61035/61035 [==============================]61035/61035 [==============================] - 6s 102us/step - loss: 93480.1585 - mean_absolute_error: 201.2107 - acc: 0.9092\n",
      "\n",
      "Epoch 2/20\n",
      "61035/61035 [==============================]61035/61035 [==============================] - 4s 69us/step - loss: 24291.2373 - mean_absolute_error: 117.8897 - acc: 0.9473\n",
      "\n",
      "Epoch 3/20\n",
      "61035/61035 [==============================]61035/61035 [==============================] - 4s 69us/step - loss: 19450.4290 - mean_absolute_error: 103.5418 - acc: 0.9521\n",
      "\n",
      "Epoch 4/20\n",
      "61035/61035 [==============================]61035/61035 [==============================] - 4s 68us/step - loss: 16157.2988 - mean_absolute_error: 93.3414 - acc: 0.9591\n",
      "\n",
      "Epoch 5/20\n",
      "61035/61035 [==============================]61035/61035 [==============================] - 4s 69us/step - loss: 15013.8940 - mean_absolute_error: 89.2171 - acc: 0.9616\n",
      "\n",
      "Epoch 6/20\n",
      "61035/61035 [==============================]61035/61035 [==============================] - 4s 68us/step - loss: 14614.1724 - mean_absolute_error: 87.7223 - acc: 0.9627\n",
      "\n",
      "Epoch 7/20\n",
      "61035/61035 [==============================]61035/61035 [==============================] - 4s 68us/step - loss: 14088.6029 - mean_absolute_error: 86.3661 - acc: 0.9643\n",
      "\n",
      "Epoch 8/20\n",
      "61035/61035 [==============================]61035/61035 [==============================] - 4s 68us/step - loss: 13861.4731 - mean_absolute_error: 85.3929 - acc: 0.9626\n",
      "\n",
      "Epoch 9/20\n",
      "61035/61035 [==============================]61035/61035 [==============================] - 4s 68us/step - loss: 13604.3543 - mean_absolute_error: 84.5585 - acc: 0.9641\n",
      "\n",
      "Epoch 10/20\n",
      "61035/61035 [==============================]61035/61035 [==============================] - 4s 69us/step - loss: 13660.6271 - mean_absolute_error: 84.6354 - acc: 0.9645\n",
      "\n",
      "Epoch 11/20\n",
      "61035/61035 [==============================]61035/61035 [==============================] - 4s 68us/step - loss: 13469.6484 - mean_absolute_error: 84.0665 - acc: 0.9656\n",
      "\n",
      "Epoch 12/20\n",
      "61035/61035 [==============================]61035/61035 [==============================] - 4s 68us/step - loss: 13238.8626 - mean_absolute_error: 83.3528 - acc: 0.9668\n",
      "\n",
      "Epoch 13/20\n",
      "61035/61035 [==============================]61035/61035 [==============================] - 4s 68us/step - loss: 12896.0467 - mean_absolute_error: 82.3337 - acc: 0.9664\n",
      "\n",
      "Epoch 14/20\n",
      "61035/61035 [==============================]61035/61035 [==============================] - 4s 68us/step - loss: 13082.9099 - mean_absolute_error: 82.7523 - acc: 0.9661\n",
      "\n",
      "Epoch 15/20\n",
      "61035/61035 [==============================]61035/61035 [==============================] - 4s 68us/step - loss: 12779.6830 - mean_absolute_error: 81.9131 - acc: 0.9666\n",
      "\n",
      "Epoch 16/20\n",
      "61035/61035 [==============================]61035/61035 [==============================] - 4s 68us/step - loss: 12907.4266 - mean_absolute_error: 82.1185 - acc: 0.9670\n",
      "\n",
      "Epoch 17/20\n",
      "61035/61035 [==============================]61035/61035 [==============================] - 4s 68us/step - loss: 12914.7297 - mean_absolute_error: 82.2083 - acc: 0.9654\n",
      "\n",
      "Epoch 18/20\n",
      "61035/61035 [==============================]61035/61035 [==============================] - 4s 69us/step - loss: 12738.3116 - mean_absolute_error: 81.7011 - acc: 0.9666\n",
      "\n",
      "Epoch 19/20\n",
      "61035/61035 [==============================]61035/61035 [==============================] - 4s 68us/step - loss: 12810.3682 - mean_absolute_error: 81.8690 - acc: 0.9677\n",
      "\n",
      "Epoch 20/20\n",
      "61035/61035 [==============================]61035/61035 [==============================] - 4s 68us/step - loss: 12781.8124 - mean_absolute_error: 81.6398 - acc: 0.9673\n",
      "\n"
     ]
    }
   ],
   "source": [
    "########## HYPER PARAMETERS\n",
    "batch_size = 128\n",
    "epochs = 20\n",
    "optimizer = tf.keras.optimizers.Adam(decay=0.001)\n",
    "########## HYPER PARAMETERS\n",
    "\n",
    "########## MODEL ARCHITECTURE\n",
    "model = tf.keras.Sequential()\n",
    "\n",
    "### OLD ARCHITECTURE START\n",
    "#model.add(tf.keras.layers.Dense(5, activation='relu', input_shape=(784,)))\n",
    "### OLD ARCHITECTURE END\n",
    "\n",
    "### NEW CNN ARCHITECTURE\n",
    "model.add(tf.keras.layers.Conv2D(5, kernel_size=(7, 7), activation='relu', padding='same',input_shape=(27,15,1)))\n",
    "model.add(tf.keras.layers.MaxPooling2D(pool_size=(2, 2), strides=(1,1), padding='same', data_format=None))\n",
    "model.add(tf.keras.layers.Conv2D(5, kernel_size=(5, 5), activation='relu', padding='same',input_shape=(27,15,1)))\n",
    "model.add(tf.keras.layers.MaxPooling2D(pool_size=(2, 2), strides=(1,1), padding='same', data_format=None))\n",
    "model.add(tf.keras.layers.Conv2D(5, kernel_size=(3, 3), activation='relu', padding='same',input_shape=(27,15,1)))\n",
    "model.add(tf.keras.layers.MaxPooling2D(pool_size=(2, 2), strides=(1,1), padding='same', data_format=None))\n",
    "model.add(tf.keras.layers.Flatten())\n",
    "### NEW CNN ARCHITECTURE\n",
    "model.add(tf.keras.layers.Dense(128, activation='relu'))\n",
    "model.add(tf.keras.layers.Dense(64, activation='relu'))\n",
    "model.add(tf.keras.layers.Dropout(rate=0.25, noise_shape=None, seed=None))\n",
    "\n",
    "model.add(tf.keras.layers.Dense(2, activation=None))\n",
    "########## MODEL ARCHITECTURE\n",
    "\n",
    "# Print summary\n",
    "model.summary()\n",
    "\n",
    "# compile model for training\n",
    "model.compile(loss='mean_squared_error',\n",
    "              optimizer=optimizer,\n",
    "              metrics=['mae','acc'])\n",
    "\n",
    "history = model.fit(x_train, y,\n",
    "                    batch_size=batch_size,\n",
    "                    epochs=epochs,\n",
    "                    verbose=1,shuffle=True)"
   ]
  },
  {
   "cell_type": "code",
   "execution_count": 151,
   "metadata": {},
   "outputs": [
    {
     "name": "stdout",
     "output_type": "stream",
     "text": [
      "[[797.35443 491.11905]]\n"
     ]
    }
   ],
   "source": [
    "# use model for inference to get test accuracy\n",
    "val = (x_test[600]).reshape(-1, 27, 15, 1)\n",
    "y_test_pred = model.predict(val)\n",
    "#y_test_pred = np.argmax(y_test_pred, axis=1)\n",
    "\n",
    "print(y_test_pred)\n",
    "\n",
    "#print ('\\n Summary of the precision, recall, F1 score for each class:')\n",
    "#print (sklearn.metrics.classification_report(y_test, y_test_pred))\n",
    "\n",
    "#print ('\\n Confusion matrix: ')\n",
    "#print (sklearn.metrics.confusion_matrix(y_test, y_test_pred))"
   ]
  },
  {
   "cell_type": "code",
   "execution_count": 152,
   "metadata": {},
   "outputs": [
    {
     "name": "stdout",
     "output_type": "stream",
     "text": [
      "[830. 512.]\n",
      "[863. 591.]\n"
     ]
    }
   ],
   "source": [
    "print(y_test[600])\n",
    "print(mob_test[600])"
   ]
  },
  {
   "cell_type": "code",
   "execution_count": 108,
   "metadata": {},
   "outputs": [
    {
     "ename": "KeyError",
     "evalue": "'val_acc'",
     "output_type": "error",
     "traceback": [
      "\u001b[0;31m---------------------------------------------------------------------------\u001b[0m",
      "\u001b[0;31mKeyError\u001b[0m                                  Traceback (most recent call last)",
      "\u001b[0;32m<ipython-input-108-5f8cfa196cd0>\u001b[0m in \u001b[0;36m<module>\u001b[0;34m()\u001b[0m\n\u001b[1;32m      1\u001b[0m \u001b[0;32mimport\u001b[0m \u001b[0mmatplotlib\u001b[0m\u001b[0;34m.\u001b[0m\u001b[0mpyplot\u001b[0m \u001b[0;32mas\u001b[0m \u001b[0mplt\u001b[0m\u001b[0;34m\u001b[0m\u001b[0m\n\u001b[0;32m----> 2\u001b[0;31m \u001b[0mplt\u001b[0m\u001b[0;34m.\u001b[0m\u001b[0mplot\u001b[0m\u001b[0;34m(\u001b[0m\u001b[0mhistory\u001b[0m\u001b[0;34m.\u001b[0m\u001b[0mhistory\u001b[0m\u001b[0;34m[\u001b[0m\u001b[0;34m'val_acc'\u001b[0m\u001b[0;34m]\u001b[0m\u001b[0;34m,\u001b[0m \u001b[0mlabel\u001b[0m\u001b[0;34m=\u001b[0m\u001b[0;34m\"Test Accuracy\"\u001b[0m\u001b[0;34m)\u001b[0m\u001b[0;34m\u001b[0m\u001b[0m\n\u001b[0m\u001b[1;32m      3\u001b[0m \u001b[0mplt\u001b[0m\u001b[0;34m.\u001b[0m\u001b[0mplot\u001b[0m\u001b[0;34m(\u001b[0m\u001b[0mhistory\u001b[0m\u001b[0;34m.\u001b[0m\u001b[0mhistory\u001b[0m\u001b[0;34m[\u001b[0m\u001b[0;34m'acc'\u001b[0m\u001b[0;34m]\u001b[0m\u001b[0;34m,\u001b[0m \u001b[0mlabel\u001b[0m\u001b[0;34m=\u001b[0m\u001b[0;34m\"Training Accuracy\"\u001b[0m\u001b[0;34m)\u001b[0m\u001b[0;34m\u001b[0m\u001b[0m\n\u001b[1;32m      4\u001b[0m \u001b[0mplt\u001b[0m\u001b[0;34m.\u001b[0m\u001b[0mlegend\u001b[0m\u001b[0;34m(\u001b[0m\u001b[0;34m)\u001b[0m\u001b[0;34m\u001b[0m\u001b[0m\n",
      "\u001b[0;31mKeyError\u001b[0m: 'val_acc'"
     ]
    }
   ],
   "source": [
    "import matplotlib.pyplot as plt\n",
    "plt.plot(history.history['val_acc'], label=\"Test Accuracy\")\n",
    "plt.plot(history.history['acc'], label=\"Training Accuracy\")\n",
    "plt.legend()"
   ]
  },
  {
   "cell_type": "code",
   "execution_count": null,
   "metadata": {},
   "outputs": [],
   "source": [
    "# save model\n",
    "model.save(\"myModel.h5\")"
   ]
  }
 ],
 "metadata": {
  "kernelspec": {
   "display_name": "Python 3",
   "language": "python",
   "name": "python3"
  },
  "language_info": {
   "codemirror_mode": {
    "name": "ipython",
    "version": 3
   },
   "file_extension": ".py",
   "mimetype": "text/x-python",
   "name": "python",
   "nbconvert_exporter": "python",
   "pygments_lexer": "ipython3",
   "version": "3.6.3"
  }
 },
 "nbformat": 4,
 "nbformat_minor": 2
}
